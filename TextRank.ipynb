{
  "nbformat": 4,
  "nbformat_minor": 0,
  "metadata": {
    "colab": {
      "provenance": []
    },
    "kernelspec": {
      "name": "python3",
      "display_name": "Python 3"
    },
    "language_info": {
      "name": "python"
    }
  },
  "cells": [
    {
      "cell_type": "code",
      "execution_count": null,
      "metadata": {
        "id": "MVi1QC4E88NE"
      },
      "outputs": [],
      "source": [
        "import pandas as pd\n",
        "import numpy as np\n",
        "import textwrap\n",
        "import nltk\n",
        "from nltk.corpus import stopwords\n",
        "from nltk import word_tokenize\n",
        "from nltk.stem import WordNetLemmatizer, PorterStemmer\n",
        "from sklearn.feature_extraction.text import TfidfVectorizer\n",
        "from sklearn.metrics.pairwise import cosine_similarity"
      ]
    },
    {
      "cell_type": "code",
      "source": [
        "nltk.download('punkt')\n",
        "nltk.download('stopwords')"
      ],
      "metadata": {
        "colab": {
          "base_uri": "https://localhost:8080/"
        },
        "id": "KoZkFl_XDV1G",
        "outputId": "90d7f45e-94ef-4965-cc0f-f15e31d8c1c1"
      },
      "execution_count": null,
      "outputs": [
        {
          "output_type": "stream",
          "name": "stderr",
          "text": [
            "[nltk_data] Downloading package punkt to /root/nltk_data...\n",
            "[nltk_data]   Unzipping tokenizers/punkt.zip.\n",
            "[nltk_data] Downloading package stopwords to /root/nltk_data...\n",
            "[nltk_data]   Unzipping corpora/stopwords.zip.\n"
          ]
        },
        {
          "output_type": "execute_result",
          "data": {
            "text/plain": [
              "True"
            ]
          },
          "metadata": {},
          "execution_count": 2
        }
      ]
    },
    {
      "cell_type": "code",
      "source": [
        "# https://www.kaggle.com/shivamkushwaha/bbc-full-text-document-classification"
      ],
      "metadata": {
        "id": "g82pSm6ZDbNn"
      },
      "execution_count": null,
      "outputs": []
    },
    {
      "cell_type": "code",
      "source": [
        "df = pd.read_csv('bbc_text_cls.csv')"
      ],
      "metadata": {
        "id": "BU6klfwlDeWI"
      },
      "execution_count": null,
      "outputs": []
    },
    {
      "cell_type": "code",
      "source": [
        "df.head()"
      ],
      "metadata": {
        "colab": {
          "base_uri": "https://localhost:8080/",
          "height": 206
        },
        "id": "lt4Sd-H7Dhyd",
        "outputId": "9abc00cd-f85c-4b8f-e4b7-6cfe87d9b203"
      },
      "execution_count": null,
      "outputs": [
        {
          "output_type": "execute_result",
          "data": {
            "text/plain": [
              "                                                text    labels\n",
              "0  Ad sales boost Time Warner profit\\n\\nQuarterly...  business\n",
              "1  Dollar gains on Greenspan speech\\n\\nThe dollar...  business\n",
              "2  Yukos unit buyer faces loan claim\\n\\nThe owner...  business\n",
              "3  High fuel prices hit BA's profits\\n\\nBritish A...  business\n",
              "4  Pernod takeover talk lifts Domecq\\n\\nShares in...  business"
            ],
            "text/html": [
              "\n",
              "\n",
              "  <div id=\"df-8ef72a73-a3c5-49bc-862f-5e7825743cc4\">\n",
              "    <div class=\"colab-df-container\">\n",
              "      <div>\n",
              "<style scoped>\n",
              "    .dataframe tbody tr th:only-of-type {\n",
              "        vertical-align: middle;\n",
              "    }\n",
              "\n",
              "    .dataframe tbody tr th {\n",
              "        vertical-align: top;\n",
              "    }\n",
              "\n",
              "    .dataframe thead th {\n",
              "        text-align: right;\n",
              "    }\n",
              "</style>\n",
              "<table border=\"1\" class=\"dataframe\">\n",
              "  <thead>\n",
              "    <tr style=\"text-align: right;\">\n",
              "      <th></th>\n",
              "      <th>text</th>\n",
              "      <th>labels</th>\n",
              "    </tr>\n",
              "  </thead>\n",
              "  <tbody>\n",
              "    <tr>\n",
              "      <th>0</th>\n",
              "      <td>Ad sales boost Time Warner profit\\n\\nQuarterly...</td>\n",
              "      <td>business</td>\n",
              "    </tr>\n",
              "    <tr>\n",
              "      <th>1</th>\n",
              "      <td>Dollar gains on Greenspan speech\\n\\nThe dollar...</td>\n",
              "      <td>business</td>\n",
              "    </tr>\n",
              "    <tr>\n",
              "      <th>2</th>\n",
              "      <td>Yukos unit buyer faces loan claim\\n\\nThe owner...</td>\n",
              "      <td>business</td>\n",
              "    </tr>\n",
              "    <tr>\n",
              "      <th>3</th>\n",
              "      <td>High fuel prices hit BA's profits\\n\\nBritish A...</td>\n",
              "      <td>business</td>\n",
              "    </tr>\n",
              "    <tr>\n",
              "      <th>4</th>\n",
              "      <td>Pernod takeover talk lifts Domecq\\n\\nShares in...</td>\n",
              "      <td>business</td>\n",
              "    </tr>\n",
              "  </tbody>\n",
              "</table>\n",
              "</div>\n",
              "      <button class=\"colab-df-convert\" onclick=\"convertToInteractive('df-8ef72a73-a3c5-49bc-862f-5e7825743cc4')\"\n",
              "              title=\"Convert this dataframe to an interactive table.\"\n",
              "              style=\"display:none;\">\n",
              "\n",
              "  <svg xmlns=\"http://www.w3.org/2000/svg\" height=\"24px\"viewBox=\"0 0 24 24\"\n",
              "       width=\"24px\">\n",
              "    <path d=\"M0 0h24v24H0V0z\" fill=\"none\"/>\n",
              "    <path d=\"M18.56 5.44l.94 2.06.94-2.06 2.06-.94-2.06-.94-.94-2.06-.94 2.06-2.06.94zm-11 1L8.5 8.5l.94-2.06 2.06-.94-2.06-.94L8.5 2.5l-.94 2.06-2.06.94zm10 10l.94 2.06.94-2.06 2.06-.94-2.06-.94-.94-2.06-.94 2.06-2.06.94z\"/><path d=\"M17.41 7.96l-1.37-1.37c-.4-.4-.92-.59-1.43-.59-.52 0-1.04.2-1.43.59L10.3 9.45l-7.72 7.72c-.78.78-.78 2.05 0 2.83L4 21.41c.39.39.9.59 1.41.59.51 0 1.02-.2 1.41-.59l7.78-7.78 2.81-2.81c.8-.78.8-2.07 0-2.86zM5.41 20L4 18.59l7.72-7.72 1.47 1.35L5.41 20z\"/>\n",
              "  </svg>\n",
              "      </button>\n",
              "\n",
              "\n",
              "\n",
              "    <div id=\"df-2be9348b-7a9c-4e8f-ba57-9ccc7837c19e\">\n",
              "      <button class=\"colab-df-quickchart\" onclick=\"quickchart('df-2be9348b-7a9c-4e8f-ba57-9ccc7837c19e')\"\n",
              "              title=\"Suggest charts.\"\n",
              "              style=\"display:none;\">\n",
              "\n",
              "<svg xmlns=\"http://www.w3.org/2000/svg\" height=\"24px\"viewBox=\"0 0 24 24\"\n",
              "     width=\"24px\">\n",
              "    <g>\n",
              "        <path d=\"M19 3H5c-1.1 0-2 .9-2 2v14c0 1.1.9 2 2 2h14c1.1 0 2-.9 2-2V5c0-1.1-.9-2-2-2zM9 17H7v-7h2v7zm4 0h-2V7h2v10zm4 0h-2v-4h2v4z\"/>\n",
              "    </g>\n",
              "</svg>\n",
              "      </button>\n",
              "    </div>\n",
              "\n",
              "<style>\n",
              "  .colab-df-quickchart {\n",
              "    background-color: #E8F0FE;\n",
              "    border: none;\n",
              "    border-radius: 50%;\n",
              "    cursor: pointer;\n",
              "    display: none;\n",
              "    fill: #1967D2;\n",
              "    height: 32px;\n",
              "    padding: 0 0 0 0;\n",
              "    width: 32px;\n",
              "  }\n",
              "\n",
              "  .colab-df-quickchart:hover {\n",
              "    background-color: #E2EBFA;\n",
              "    box-shadow: 0px 1px 2px rgba(60, 64, 67, 0.3), 0px 1px 3px 1px rgba(60, 64, 67, 0.15);\n",
              "    fill: #174EA6;\n",
              "  }\n",
              "\n",
              "  [theme=dark] .colab-df-quickchart {\n",
              "    background-color: #3B4455;\n",
              "    fill: #D2E3FC;\n",
              "  }\n",
              "\n",
              "  [theme=dark] .colab-df-quickchart:hover {\n",
              "    background-color: #434B5C;\n",
              "    box-shadow: 0px 1px 3px 1px rgba(0, 0, 0, 0.15);\n",
              "    filter: drop-shadow(0px 1px 2px rgba(0, 0, 0, 0.3));\n",
              "    fill: #FFFFFF;\n",
              "  }\n",
              "</style>\n",
              "\n",
              "    <script>\n",
              "      async function quickchart(key) {\n",
              "        const containerElement = document.querySelector('#' + key);\n",
              "        const charts = await google.colab.kernel.invokeFunction(\n",
              "            'suggestCharts', [key], {});\n",
              "      }\n",
              "    </script>\n",
              "\n",
              "      <script>\n",
              "\n",
              "function displayQuickchartButton(domScope) {\n",
              "  let quickchartButtonEl =\n",
              "    domScope.querySelector('#df-2be9348b-7a9c-4e8f-ba57-9ccc7837c19e button.colab-df-quickchart');\n",
              "  quickchartButtonEl.style.display =\n",
              "    google.colab.kernel.accessAllowed ? 'block' : 'none';\n",
              "}\n",
              "\n",
              "        displayQuickchartButton(document);\n",
              "      </script>\n",
              "      <style>\n",
              "    .colab-df-container {\n",
              "      display:flex;\n",
              "      flex-wrap:wrap;\n",
              "      gap: 12px;\n",
              "    }\n",
              "\n",
              "    .colab-df-convert {\n",
              "      background-color: #E8F0FE;\n",
              "      border: none;\n",
              "      border-radius: 50%;\n",
              "      cursor: pointer;\n",
              "      display: none;\n",
              "      fill: #1967D2;\n",
              "      height: 32px;\n",
              "      padding: 0 0 0 0;\n",
              "      width: 32px;\n",
              "    }\n",
              "\n",
              "    .colab-df-convert:hover {\n",
              "      background-color: #E2EBFA;\n",
              "      box-shadow: 0px 1px 2px rgba(60, 64, 67, 0.3), 0px 1px 3px 1px rgba(60, 64, 67, 0.15);\n",
              "      fill: #174EA6;\n",
              "    }\n",
              "\n",
              "    [theme=dark] .colab-df-convert {\n",
              "      background-color: #3B4455;\n",
              "      fill: #D2E3FC;\n",
              "    }\n",
              "\n",
              "    [theme=dark] .colab-df-convert:hover {\n",
              "      background-color: #434B5C;\n",
              "      box-shadow: 0px 1px 3px 1px rgba(0, 0, 0, 0.15);\n",
              "      filter: drop-shadow(0px 1px 2px rgba(0, 0, 0, 0.3));\n",
              "      fill: #FFFFFF;\n",
              "    }\n",
              "  </style>\n",
              "\n",
              "      <script>\n",
              "        const buttonEl =\n",
              "          document.querySelector('#df-8ef72a73-a3c5-49bc-862f-5e7825743cc4 button.colab-df-convert');\n",
              "        buttonEl.style.display =\n",
              "          google.colab.kernel.accessAllowed ? 'block' : 'none';\n",
              "\n",
              "        async function convertToInteractive(key) {\n",
              "          const element = document.querySelector('#df-8ef72a73-a3c5-49bc-862f-5e7825743cc4');\n",
              "          const dataTable =\n",
              "            await google.colab.kernel.invokeFunction('convertToInteractive',\n",
              "                                                     [key], {});\n",
              "          if (!dataTable) return;\n",
              "\n",
              "          const docLinkHtml = 'Like what you see? Visit the ' +\n",
              "            '<a target=\"_blank\" href=https://colab.research.google.com/notebooks/data_table.ipynb>data table notebook</a>'\n",
              "            + ' to learn more about interactive tables.';\n",
              "          element.innerHTML = '';\n",
              "          dataTable['output_type'] = 'display_data';\n",
              "          await google.colab.output.renderOutput(dataTable, element);\n",
              "          const docLink = document.createElement('div');\n",
              "          docLink.innerHTML = docLinkHtml;\n",
              "          element.appendChild(docLink);\n",
              "        }\n",
              "      </script>\n",
              "    </div>\n",
              "  </div>\n"
            ]
          },
          "metadata": {},
          "execution_count": 5
        }
      ]
    },
    {
      "cell_type": "code",
      "source": [
        "doc = df[df.labels == 'business']['text'].sample()"
      ],
      "metadata": {
        "id": "aslbuQTdDjlr"
      },
      "execution_count": null,
      "outputs": []
    },
    {
      "cell_type": "code",
      "source": [
        "def wrap(x):\n",
        "  return textwrap.fill(x, replace_whitespace=False, fix_sentence_endings=True)"
      ],
      "metadata": {
        "id": "qWy-VEvqF7nl"
      },
      "execution_count": null,
      "outputs": []
    },
    {
      "cell_type": "code",
      "source": [
        "print(wrap(doc.iloc[0]))"
      ],
      "metadata": {
        "colab": {
          "base_uri": "https://localhost:8080/"
        },
        "id": "qGH3CIYnF822",
        "outputId": "6a31948f-61cc-4e95-87c5-4b57c135565e"
      },
      "execution_count": null,
      "outputs": [
        {
          "output_type": "stream",
          "name": "stdout",
          "text": [
            "Argentina closes $102.6bn debt swap\n",
            "\n",
            "Argentina is set to close its\n",
            "$102.6bn (£53.51bn) debt restructuring offer for bondholders later on\n",
            "Friday, with the government hopeful that most creditors will accept\n",
            "the deal.\n",
            "\n",
            "The estimated loss to bondholders is up to 70% of the\n",
            "original value of the bonds, yet the majority are expected to accept\n",
            "the government's offer.  Argentina defaulted on its debt three years\n",
            "ago, the biggest sovereign default in modern history.  Yesterday\n",
            "Argentina's economy minister, Roberto Lavagna, said that he estimated\n",
            "that the results of the restructuring would be ready around next\n",
            "Thursday (3 March). Argentina's President, Nestor Kirchner, said on\n",
            "Friday: \"A year ago when we started the swap (negotiations), they told\n",
            "us we were crazy, that we were irrational.\"  But he added that his\n",
            "government was close to achieving: \"The best debt renegotiation in\n",
            "history.\"  The country has been in default on the $102.6bn - based on\n",
            "an original debt of $81.8bn plus interest - for the past three years.\n",
            "If the offer does not go ahead, international lawsuits on behalf of\n",
            "aggrieved investors could follow but analysts are optimistic that it\n",
            "will go through, despite the tough terms for bondholders.  About 70%\n",
            "to 80% of bondholders are expected to accept the terms of the offer.\n",
            "By 18 February, creditors holding $41bn - or 40% of the total debt -\n",
            "had accepted the offer.  Sorting out its debt would enhance the\n",
            "country's credibility on international markets and enable it to\n",
            "attract more foreign investment.  Of Argentina's bondholders, 38.4%\n",
            "reside in Argentina, 15.6% in Italy, 10.3% in Switzerland, 9.1% in the\n",
            "United States, 5.1% in Germany and 3.1% in Japan.  Investors in the\n",
            "UK, Holland and Luxembourg have about 1% each and the remainder were\n",
            "not broken down by country.  The deal is likely to be taken up most\n",
            "enthusiastically by domestic investors, who will benefit if\n",
            "Argentina's economy becomes more stable.\n"
          ]
        }
      ]
    },
    {
      "cell_type": "code",
      "source": [
        "print(doc.iloc[0].split(\"\\n\", 1)[1])"
      ],
      "metadata": {
        "colab": {
          "base_uri": "https://localhost:8080/"
        },
        "id": "57jpmxQ_F-gT",
        "outputId": "948c94c2-1877-4c3d-8de5-ce380f168d57"
      },
      "execution_count": null,
      "outputs": [
        {
          "output_type": "stream",
          "name": "stdout",
          "text": [
            "\n",
            "Argentina is set to close its $102.6bn (£53.51bn) debt restructuring offer for bondholders later on Friday, with the government hopeful that most creditors will accept the deal.\n",
            "\n",
            "The estimated loss to bondholders is up to 70% of the original value of the bonds, yet the majority are expected to accept the government's offer. Argentina defaulted on its debt three years ago, the biggest sovereign default in modern history. Yesterday Argentina's economy minister, Roberto Lavagna, said that he estimated that the results of the restructuring would be ready around next Thursday (3 March). Argentina's President, Nestor Kirchner, said on Friday: \"A year ago when we started the swap (negotiations), they told us we were crazy, that we were irrational.\" But he added that his government was close to achieving: \"The best debt renegotiation in history.\" The country has been in default on the $102.6bn - based on an original debt of $81.8bn plus interest - for the past three years. If the offer does not go ahead, international lawsuits on behalf of aggrieved investors could follow but analysts are optimistic that it will go through, despite the tough terms for bondholders. About 70% to 80% of bondholders are expected to accept the terms of the offer. By 18 February, creditors holding $41bn - or 40% of the total debt - had accepted the offer. Sorting out its debt would enhance the country's credibility on international markets and enable it to attract more foreign investment. Of Argentina's bondholders, 38.4% reside in Argentina, 15.6% in Italy, 10.3% in Switzerland, 9.1% in the United States, 5.1% in Germany and 3.1% in Japan. Investors in the UK, Holland and Luxembourg have about 1% each and the remainder were not broken down by country. The deal is likely to be taken up most enthusiastically by domestic investors, who will benefit if Argentina's economy becomes more stable.\n"
          ]
        }
      ]
    },
    {
      "cell_type": "code",
      "source": [
        "sents = nltk.sent_tokenize(doc.iloc[0].split(\"\\n\", 1)[1])"
      ],
      "metadata": {
        "id": "WuC6fVXFGL2T"
      },
      "execution_count": null,
      "outputs": []
    },
    {
      "cell_type": "code",
      "source": [
        "len(sents)"
      ],
      "metadata": {
        "colab": {
          "base_uri": "https://localhost:8080/"
        },
        "id": "2eeB0aP3GQHC",
        "outputId": "3320fdcf-16c4-4e9d-d1b8-d733993e41c3"
      },
      "execution_count": null,
      "outputs": [
        {
          "output_type": "execute_result",
          "data": {
            "text/plain": [
              "14"
            ]
          },
          "metadata": {},
          "execution_count": 26
        }
      ]
    },
    {
      "cell_type": "code",
      "source": [
        "featurizer = TfidfVectorizer(\n",
        "    stop_words=stopwords.words('english'),\n",
        "    norm='l2')"
      ],
      "metadata": {
        "id": "zBVwectnGRAn"
      },
      "execution_count": null,
      "outputs": []
    },
    {
      "cell_type": "code",
      "source": [
        "X = featurizer.fit_transform(sents)"
      ],
      "metadata": {
        "id": "kAGHarI4H1xJ"
      },
      "execution_count": null,
      "outputs": []
    },
    {
      "cell_type": "code",
      "source": [
        "X.shape"
      ],
      "metadata": {
        "colab": {
          "base_uri": "https://localhost:8080/"
        },
        "id": "0LyRH-qgH3R5",
        "outputId": "96f2cdfa-cd2b-4df2-a087-2f8049c489eb"
      },
      "execution_count": null,
      "outputs": [
        {
          "output_type": "execute_result",
          "data": {
            "text/plain": [
              "(14, 123)"
            ]
          },
          "metadata": {},
          "execution_count": 32
        }
      ]
    },
    {
      "cell_type": "markdown",
      "source": [
        "Computing Sentence vs Sentence Similarity Matrix, this represents a link between web pages as in PageRank.\n",
        "\n",
        "Our representation of the link is similarity and magnitude of link denotes extent of similarity on a scale of 1-10."
      ],
      "metadata": {
        "id": "jmpi_i35IBLe"
      }
    },
    {
      "cell_type": "code",
      "source": [
        "S = cosine_similarity(X)"
      ],
      "metadata": {
        "id": "OT-1w26iH5j-"
      },
      "execution_count": null,
      "outputs": []
    },
    {
      "cell_type": "code",
      "source": [
        "S /= S.sum(axis=1, keepdims=True)"
      ],
      "metadata": {
        "id": "bWGNF8wfH-KW"
      },
      "execution_count": null,
      "outputs": []
    },
    {
      "cell_type": "markdown",
      "source": [
        "Smoothing to relax the 0 magnitude edges."
      ],
      "metadata": {
        "id": "kBkeWXZuIhCU"
      }
    },
    {
      "cell_type": "code",
      "source": [
        "U = np.ones_like(S) / len(S)"
      ],
      "metadata": {
        "id": "bzl5Y0SvIe0n"
      },
      "execution_count": null,
      "outputs": []
    },
    {
      "cell_type": "markdown",
      "source": [
        "Smoothed Similarity Matrix."
      ],
      "metadata": {
        "id": "e3q3gab3IrOF"
      }
    },
    {
      "cell_type": "code",
      "source": [
        "factor = 0.15\n",
        "S = (1 - factor) * S + factor * U"
      ],
      "metadata": {
        "id": "37oFt8nUIqn8"
      },
      "execution_count": null,
      "outputs": []
    },
    {
      "cell_type": "markdown",
      "source": [
        "Stationary Distirbution: How?\n",
        "\n",
        "PageRank is based on a Markov Chain that is time independent, and thus, p(st) = S.p(st-1).\n",
        "\n",
        "After infinite steps, we get limiting disitribution.\n",
        "\n",
        "p(s_inf)=S.p(s_inf), sinc infinity-1 is equivalent to infinity.\n",
        "\n",
        "Thus, the stationary probability p(s#) satisfies, S.p(s#)=p(s#).\n",
        "\n",
        "Or, the stationary probability is an eigen vector of S, whose eigen value is 1.\n",
        "\n",
        "So, our next step should be eigen decomposition of S.\n",
        "\n"
      ],
      "metadata": {
        "id": "hUt91wI1IyO0"
      }
    },
    {
      "cell_type": "code",
      "source": [
        "eigenvals, eigenvecs = np.linalg.eig(S.T) #Transpose"
      ],
      "metadata": {
        "id": "bCjKPxcDIx4-"
      },
      "execution_count": null,
      "outputs": []
    },
    {
      "cell_type": "code",
      "source": [
        "eigenvals"
      ],
      "metadata": {
        "colab": {
          "base_uri": "https://localhost:8080/"
        },
        "id": "75pdSf7IIoEw",
        "outputId": "25f68add-57c7-4e73-9056-cf3aa11249ec"
      },
      "execution_count": null,
      "outputs": [
        {
          "output_type": "execute_result",
          "data": {
            "text/plain": [
              "array([1.        , 0.23661838, 0.27630462, 0.35460771, 0.70072197,\n",
              "       0.69225848, 0.66274471, 0.47272816, 0.51033853, 0.52511247,\n",
              "       0.54860038, 0.56578729, 0.58753904, 0.58233942])"
            ]
          },
          "metadata": {},
          "execution_count": 45
        }
      ]
    },
    {
      "cell_type": "code",
      "source": [
        "eigenvecs[:]"
      ],
      "metadata": {
        "id": "FJnXVt3IM-tH"
      },
      "execution_count": null,
      "outputs": []
    },
    {
      "cell_type": "markdown",
      "source": [
        "Take the principal eigen vector, the one with eigen value 1, and normalise it."
      ],
      "metadata": {
        "id": "4UvlaDQQNQSq"
      }
    },
    {
      "cell_type": "code",
      "source": [
        "limiting_distribution=eigenvecs[:,0] / eigenvecs[:,0].sum()"
      ],
      "metadata": {
        "id": "HNAEsV9nNEHf"
      },
      "execution_count": null,
      "outputs": []
    },
    {
      "cell_type": "markdown",
      "source": [
        "This represents the effect each sentence has in the final set of sentences."
      ],
      "metadata": {
        "id": "RgZ1vFuxNire"
      }
    },
    {
      "cell_type": "code",
      "source": [
        "scores=limiting_distribution"
      ],
      "metadata": {
        "id": "ZbuVBvj5NgB3"
      },
      "execution_count": null,
      "outputs": []
    },
    {
      "cell_type": "code",
      "source": [
        "sort_idx = np.argsort(-scores)"
      ],
      "metadata": {
        "id": "YN_QPE9zOWjy"
      },
      "execution_count": null,
      "outputs": []
    },
    {
      "cell_type": "code",
      "source": [
        "print(\"Generated summary:\")\n",
        "for i in sort_idx[:5]:\n",
        "  print(wrap(\"%.2f: %s\" % (scores[i], sents[i])))"
      ],
      "metadata": {
        "colab": {
          "base_uri": "https://localhost:8080/"
        },
        "id": "9HkCIBAaOZFW",
        "outputId": "a694698a-a331-49f1-fe83-311c9e8f7225"
      },
      "execution_count": null,
      "outputs": [
        {
          "output_type": "stream",
          "name": "stdout",
          "text": [
            "Generated summary:\n",
            "0.10: \n",
            "Argentina is set to close its $102.6bn (£53.51bn) debt\n",
            "restructuring offer for bondholders later on Friday, with the\n",
            "government hopeful that most creditors will accept the deal.\n",
            "0.08: The estimated loss to bondholders is up to 70% of the original\n",
            "value of the bonds, yet the majority are expected to accept the\n",
            "government's offer.\n",
            "0.08: About 70% to 80% of bondholders are expected to accept the terms\n",
            "of the offer.\n",
            "0.08: Argentina defaulted on its debt three years ago, the biggest\n",
            "sovereign default in modern history.\n",
            "0.07: The country has been in default on the $102.6bn - based on an\n",
            "original debt of $81.8bn plus interest - for the past three years.\n"
          ]
        }
      ]
    },
    {
      "cell_type": "code",
      "source": [],
      "metadata": {
        "id": "tCP3vubFOdJR"
      },
      "execution_count": null,
      "outputs": []
    }
  ]
}